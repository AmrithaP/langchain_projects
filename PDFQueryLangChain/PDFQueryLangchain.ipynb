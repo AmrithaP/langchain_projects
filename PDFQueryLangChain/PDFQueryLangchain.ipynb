{
  "nbformat": 4,
  "nbformat_minor": 0,
  "metadata": {
    "colab": {
      "provenance": []
    },
    "kernelspec": {
      "name": "python3",
      "display_name": "Python 3"
    },
    "language_info": {
      "name": "python"
    }
  },
  "cells": [
    {
      "cell_type": "markdown",
      "source": [
        "PDF Query Using Langchain"
      ],
      "metadata": {
        "id": "Hs4M7DgnOWRs"
      }
    },
    {
      "cell_type": "code",
      "execution_count": null,
      "metadata": {
        "colab": {
          "base_uri": "https://localhost:8080/"
        },
        "id": "6IU8MvXOORbB",
        "outputId": "458165ef-cb68-4a58-b17d-9859674c6afe"
      },
      "outputs": [
        {
          "output_type": "stream",
          "name": "stdout",
          "text": [
            "Requirement already satisfied: langchain in /usr/local/lib/python3.11/dist-packages (0.3.14)\n",
            "Requirement already satisfied: PyYAML>=5.3 in /usr/local/lib/python3.11/dist-packages (from langchain) (6.0.2)\n",
            "Requirement already satisfied: SQLAlchemy<3,>=1.4 in /usr/local/lib/python3.11/dist-packages (from langchain) (2.0.37)\n",
            "Requirement already satisfied: aiohttp<4.0.0,>=3.8.3 in /usr/local/lib/python3.11/dist-packages (from langchain) (3.11.11)\n",
            "Requirement already satisfied: langchain-core<0.4.0,>=0.3.29 in /usr/local/lib/python3.11/dist-packages (from langchain) (0.3.29)\n",
            "Requirement already satisfied: langchain-text-splitters<0.4.0,>=0.3.3 in /usr/local/lib/python3.11/dist-packages (from langchain) (0.3.5)\n",
            "Requirement already satisfied: langsmith<0.3,>=0.1.17 in /usr/local/lib/python3.11/dist-packages (from langchain) (0.2.10)\n",
            "Requirement already satisfied: numpy<2,>=1.22.4 in /usr/local/lib/python3.11/dist-packages (from langchain) (1.26.4)\n",
            "Requirement already satisfied: pydantic<3.0.0,>=2.7.4 in /usr/local/lib/python3.11/dist-packages (from langchain) (2.10.5)\n",
            "Requirement already satisfied: requests<3,>=2 in /usr/local/lib/python3.11/dist-packages (from langchain) (2.32.3)\n",
            "Requirement already satisfied: tenacity!=8.4.0,<10,>=8.1.0 in /usr/local/lib/python3.11/dist-packages (from langchain) (9.0.0)\n",
            "Requirement already satisfied: aiohappyeyeballs>=2.3.0 in /usr/local/lib/python3.11/dist-packages (from aiohttp<4.0.0,>=3.8.3->langchain) (2.4.4)\n",
            "Requirement already satisfied: aiosignal>=1.1.2 in /usr/local/lib/python3.11/dist-packages (from aiohttp<4.0.0,>=3.8.3->langchain) (1.3.2)\n",
            "Requirement already satisfied: attrs>=17.3.0 in /usr/local/lib/python3.11/dist-packages (from aiohttp<4.0.0,>=3.8.3->langchain) (24.3.0)\n",
            "Requirement already satisfied: frozenlist>=1.1.1 in /usr/local/lib/python3.11/dist-packages (from aiohttp<4.0.0,>=3.8.3->langchain) (1.5.0)\n",
            "Requirement already satisfied: multidict<7.0,>=4.5 in /usr/local/lib/python3.11/dist-packages (from aiohttp<4.0.0,>=3.8.3->langchain) (6.1.0)\n",
            "Requirement already satisfied: propcache>=0.2.0 in /usr/local/lib/python3.11/dist-packages (from aiohttp<4.0.0,>=3.8.3->langchain) (0.2.1)\n",
            "Requirement already satisfied: yarl<2.0,>=1.17.0 in /usr/local/lib/python3.11/dist-packages (from aiohttp<4.0.0,>=3.8.3->langchain) (1.18.3)\n",
            "Requirement already satisfied: jsonpatch<2.0,>=1.33 in /usr/local/lib/python3.11/dist-packages (from langchain-core<0.4.0,>=0.3.29->langchain) (1.33)\n",
            "Requirement already satisfied: packaging<25,>=23.2 in /usr/local/lib/python3.11/dist-packages (from langchain-core<0.4.0,>=0.3.29->langchain) (24.2)\n",
            "Requirement already satisfied: typing-extensions>=4.7 in /usr/local/lib/python3.11/dist-packages (from langchain-core<0.4.0,>=0.3.29->langchain) (4.12.2)\n",
            "Requirement already satisfied: httpx<1,>=0.23.0 in /usr/local/lib/python3.11/dist-packages (from langsmith<0.3,>=0.1.17->langchain) (0.28.1)\n",
            "Requirement already satisfied: orjson<4.0.0,>=3.9.14 in /usr/local/lib/python3.11/dist-packages (from langsmith<0.3,>=0.1.17->langchain) (3.10.14)\n",
            "Requirement already satisfied: requests-toolbelt<2.0.0,>=1.0.0 in /usr/local/lib/python3.11/dist-packages (from langsmith<0.3,>=0.1.17->langchain) (1.0.0)\n",
            "Requirement already satisfied: annotated-types>=0.6.0 in /usr/local/lib/python3.11/dist-packages (from pydantic<3.0.0,>=2.7.4->langchain) (0.7.0)\n",
            "Requirement already satisfied: pydantic-core==2.27.2 in /usr/local/lib/python3.11/dist-packages (from pydantic<3.0.0,>=2.7.4->langchain) (2.27.2)\n",
            "Requirement already satisfied: charset-normalizer<4,>=2 in /usr/local/lib/python3.11/dist-packages (from requests<3,>=2->langchain) (3.4.1)\n",
            "Requirement already satisfied: idna<4,>=2.5 in /usr/local/lib/python3.11/dist-packages (from requests<3,>=2->langchain) (3.10)\n",
            "Requirement already satisfied: urllib3<3,>=1.21.1 in /usr/local/lib/python3.11/dist-packages (from requests<3,>=2->langchain) (2.3.0)\n",
            "Requirement already satisfied: certifi>=2017.4.17 in /usr/local/lib/python3.11/dist-packages (from requests<3,>=2->langchain) (2024.12.14)\n",
            "Requirement already satisfied: greenlet!=0.4.17 in /usr/local/lib/python3.11/dist-packages (from SQLAlchemy<3,>=1.4->langchain) (3.1.1)\n",
            "Requirement already satisfied: anyio in /usr/local/lib/python3.11/dist-packages (from httpx<1,>=0.23.0->langsmith<0.3,>=0.1.17->langchain) (3.7.1)\n",
            "Requirement already satisfied: httpcore==1.* in /usr/local/lib/python3.11/dist-packages (from httpx<1,>=0.23.0->langsmith<0.3,>=0.1.17->langchain) (1.0.7)\n",
            "Requirement already satisfied: h11<0.15,>=0.13 in /usr/local/lib/python3.11/dist-packages (from httpcore==1.*->httpx<1,>=0.23.0->langsmith<0.3,>=0.1.17->langchain) (0.14.0)\n",
            "Requirement already satisfied: jsonpointer>=1.9 in /usr/local/lib/python3.11/dist-packages (from jsonpatch<2.0,>=1.33->langchain-core<0.4.0,>=0.3.29->langchain) (3.0.0)\n",
            "Requirement already satisfied: sniffio>=1.1 in /usr/local/lib/python3.11/dist-packages (from anyio->httpx<1,>=0.23.0->langsmith<0.3,>=0.1.17->langchain) (1.3.1)\n",
            "Collecting PyPDF2\n",
            "  Downloading pypdf2-3.0.1-py3-none-any.whl.metadata (6.8 kB)\n",
            "Downloading pypdf2-3.0.1-py3-none-any.whl (232 kB)\n",
            "\u001b[2K   \u001b[90m━━━━━━━━━━━━━━━━━━━━━━━━━━━━━━━━━━━━━━━━\u001b[0m \u001b[32m232.6/232.6 kB\u001b[0m \u001b[31m4.4 MB/s\u001b[0m eta \u001b[36m0:00:00\u001b[0m\n",
            "\u001b[?25hInstalling collected packages: PyPDF2\n",
            "Successfully installed PyPDF2-3.0.1\n",
            "Requirement already satisfied: openai in /usr/local/lib/python3.11/dist-packages (1.59.6)\n",
            "Requirement already satisfied: anyio<5,>=3.5.0 in /usr/local/lib/python3.11/dist-packages (from openai) (3.7.1)\n",
            "Requirement already satisfied: distro<2,>=1.7.0 in /usr/local/lib/python3.11/dist-packages (from openai) (1.9.0)\n",
            "Requirement already satisfied: httpx<1,>=0.23.0 in /usr/local/lib/python3.11/dist-packages (from openai) (0.28.1)\n",
            "Requirement already satisfied: jiter<1,>=0.4.0 in /usr/local/lib/python3.11/dist-packages (from openai) (0.8.2)\n",
            "Requirement already satisfied: pydantic<3,>=1.9.0 in /usr/local/lib/python3.11/dist-packages (from openai) (2.10.5)\n",
            "Requirement already satisfied: sniffio in /usr/local/lib/python3.11/dist-packages (from openai) (1.3.1)\n",
            "Requirement already satisfied: tqdm>4 in /usr/local/lib/python3.11/dist-packages (from openai) (4.67.1)\n",
            "Requirement already satisfied: typing-extensions<5,>=4.11 in /usr/local/lib/python3.11/dist-packages (from openai) (4.12.2)\n",
            "Requirement already satisfied: idna>=2.8 in /usr/local/lib/python3.11/dist-packages (from anyio<5,>=3.5.0->openai) (3.10)\n",
            "Requirement already satisfied: certifi in /usr/local/lib/python3.11/dist-packages (from httpx<1,>=0.23.0->openai) (2024.12.14)\n",
            "Requirement already satisfied: httpcore==1.* in /usr/local/lib/python3.11/dist-packages (from httpx<1,>=0.23.0->openai) (1.0.7)\n",
            "Requirement already satisfied: h11<0.15,>=0.13 in /usr/local/lib/python3.11/dist-packages (from httpcore==1.*->httpx<1,>=0.23.0->openai) (0.14.0)\n",
            "Requirement already satisfied: annotated-types>=0.6.0 in /usr/local/lib/python3.11/dist-packages (from pydantic<3,>=1.9.0->openai) (0.7.0)\n",
            "Requirement already satisfied: pydantic-core==2.27.2 in /usr/local/lib/python3.11/dist-packages (from pydantic<3,>=1.9.0->openai) (2.27.2)\n",
            "Collecting faiss-cpu\n",
            "  Downloading faiss_cpu-1.9.0.post1-cp311-cp311-manylinux_2_17_x86_64.manylinux2014_x86_64.whl.metadata (4.4 kB)\n",
            "Requirement already satisfied: numpy<3.0,>=1.25.0 in /usr/local/lib/python3.11/dist-packages (from faiss-cpu) (1.26.4)\n",
            "Requirement already satisfied: packaging in /usr/local/lib/python3.11/dist-packages (from faiss-cpu) (24.2)\n",
            "Downloading faiss_cpu-1.9.0.post1-cp311-cp311-manylinux_2_17_x86_64.manylinux2014_x86_64.whl (27.5 MB)\n",
            "\u001b[2K   \u001b[90m━━━━━━━━━━━━━━━━━━━━━━━━━━━━━━━━━━━━━━━━\u001b[0m \u001b[32m27.5/27.5 MB\u001b[0m \u001b[31m20.0 MB/s\u001b[0m eta \u001b[36m0:00:00\u001b[0m\n",
            "\u001b[?25hInstalling collected packages: faiss-cpu\n",
            "Successfully installed faiss-cpu-1.9.0.post1\n",
            "Collecting tiktoken\n",
            "  Downloading tiktoken-0.8.0-cp311-cp311-manylinux_2_17_x86_64.manylinux2014_x86_64.whl.metadata (6.6 kB)\n",
            "Requirement already satisfied: regex>=2022.1.18 in /usr/local/lib/python3.11/dist-packages (from tiktoken) (2024.11.6)\n",
            "Requirement already satisfied: requests>=2.26.0 in /usr/local/lib/python3.11/dist-packages (from tiktoken) (2.32.3)\n",
            "Requirement already satisfied: charset-normalizer<4,>=2 in /usr/local/lib/python3.11/dist-packages (from requests>=2.26.0->tiktoken) (3.4.1)\n",
            "Requirement already satisfied: idna<4,>=2.5 in /usr/local/lib/python3.11/dist-packages (from requests>=2.26.0->tiktoken) (3.10)\n",
            "Requirement already satisfied: urllib3<3,>=1.21.1 in /usr/local/lib/python3.11/dist-packages (from requests>=2.26.0->tiktoken) (2.3.0)\n",
            "Requirement already satisfied: certifi>=2017.4.17 in /usr/local/lib/python3.11/dist-packages (from requests>=2.26.0->tiktoken) (2024.12.14)\n",
            "Downloading tiktoken-0.8.0-cp311-cp311-manylinux_2_17_x86_64.manylinux2014_x86_64.whl (1.2 MB)\n",
            "\u001b[2K   \u001b[90m━━━━━━━━━━━━━━━━━━━━━━━━━━━━━━━━━━━━━━━━\u001b[0m \u001b[32m1.2/1.2 MB\u001b[0m \u001b[31m13.5 MB/s\u001b[0m eta \u001b[36m0:00:00\u001b[0m\n",
            "\u001b[?25hInstalling collected packages: tiktoken\n",
            "Successfully installed tiktoken-0.8.0\n"
          ]
        }
      ],
      "source": [
        "!pip install langchain\n",
        "!pip install PyPDF2 # READ FROM PDF\n",
        "!pip install openai\n",
        "!pip install faiss-cpu #\n",
        "!pip install tiktoken # Dependency - to create tokens"
      ]
    },
    {
      "cell_type": "code",
      "source": [
        "!pip install -U langchain-community # Install the missing langchain-community package"
      ],
      "metadata": {
        "colab": {
          "base_uri": "https://localhost:8080/"
        },
        "id": "8DrxGaHLPRK_",
        "outputId": "1fbfe16b-525c-475e-a1d7-29cc9a46c9ce"
      },
      "execution_count": null,
      "outputs": [
        {
          "output_type": "stream",
          "name": "stdout",
          "text": [
            "Collecting langchain-community\n",
            "  Downloading langchain_community-0.3.15-py3-none-any.whl.metadata (2.9 kB)\n",
            "Requirement already satisfied: PyYAML>=5.3 in /usr/local/lib/python3.11/dist-packages (from langchain-community) (6.0.2)\n",
            "Requirement already satisfied: SQLAlchemy<3,>=1.4 in /usr/local/lib/python3.11/dist-packages (from langchain-community) (2.0.37)\n",
            "Requirement already satisfied: aiohttp<4.0.0,>=3.8.3 in /usr/local/lib/python3.11/dist-packages (from langchain-community) (3.11.11)\n",
            "Collecting dataclasses-json<0.7,>=0.5.7 (from langchain-community)\n",
            "  Downloading dataclasses_json-0.6.7-py3-none-any.whl.metadata (25 kB)\n",
            "Collecting httpx-sse<0.5.0,>=0.4.0 (from langchain-community)\n",
            "  Downloading httpx_sse-0.4.0-py3-none-any.whl.metadata (9.0 kB)\n",
            "Collecting langchain<0.4.0,>=0.3.15 (from langchain-community)\n",
            "  Downloading langchain-0.3.15-py3-none-any.whl.metadata (7.1 kB)\n",
            "Collecting langchain-core<0.4.0,>=0.3.31 (from langchain-community)\n",
            "  Downloading langchain_core-0.3.31-py3-none-any.whl.metadata (6.3 kB)\n",
            "Requirement already satisfied: langsmith<0.4,>=0.1.125 in /usr/local/lib/python3.11/dist-packages (from langchain-community) (0.2.10)\n",
            "Requirement already satisfied: numpy<2,>=1.22.4 in /usr/local/lib/python3.11/dist-packages (from langchain-community) (1.26.4)\n",
            "Collecting pydantic-settings<3.0.0,>=2.4.0 (from langchain-community)\n",
            "  Downloading pydantic_settings-2.7.1-py3-none-any.whl.metadata (3.5 kB)\n",
            "Requirement already satisfied: requests<3,>=2 in /usr/local/lib/python3.11/dist-packages (from langchain-community) (2.32.3)\n",
            "Requirement already satisfied: tenacity!=8.4.0,<10,>=8.1.0 in /usr/local/lib/python3.11/dist-packages (from langchain-community) (9.0.0)\n",
            "Requirement already satisfied: aiohappyeyeballs>=2.3.0 in /usr/local/lib/python3.11/dist-packages (from aiohttp<4.0.0,>=3.8.3->langchain-community) (2.4.4)\n",
            "Requirement already satisfied: aiosignal>=1.1.2 in /usr/local/lib/python3.11/dist-packages (from aiohttp<4.0.0,>=3.8.3->langchain-community) (1.3.2)\n",
            "Requirement already satisfied: attrs>=17.3.0 in /usr/local/lib/python3.11/dist-packages (from aiohttp<4.0.0,>=3.8.3->langchain-community) (24.3.0)\n",
            "Requirement already satisfied: frozenlist>=1.1.1 in /usr/local/lib/python3.11/dist-packages (from aiohttp<4.0.0,>=3.8.3->langchain-community) (1.5.0)\n",
            "Requirement already satisfied: multidict<7.0,>=4.5 in /usr/local/lib/python3.11/dist-packages (from aiohttp<4.0.0,>=3.8.3->langchain-community) (6.1.0)\n",
            "Requirement already satisfied: propcache>=0.2.0 in /usr/local/lib/python3.11/dist-packages (from aiohttp<4.0.0,>=3.8.3->langchain-community) (0.2.1)\n",
            "Requirement already satisfied: yarl<2.0,>=1.17.0 in /usr/local/lib/python3.11/dist-packages (from aiohttp<4.0.0,>=3.8.3->langchain-community) (1.18.3)\n",
            "Collecting marshmallow<4.0.0,>=3.18.0 (from dataclasses-json<0.7,>=0.5.7->langchain-community)\n",
            "  Downloading marshmallow-3.25.1-py3-none-any.whl.metadata (7.3 kB)\n",
            "Collecting typing-inspect<1,>=0.4.0 (from dataclasses-json<0.7,>=0.5.7->langchain-community)\n",
            "  Downloading typing_inspect-0.9.0-py3-none-any.whl.metadata (1.5 kB)\n",
            "Requirement already satisfied: langchain-text-splitters<0.4.0,>=0.3.3 in /usr/local/lib/python3.11/dist-packages (from langchain<0.4.0,>=0.3.15->langchain-community) (0.3.5)\n",
            "Requirement already satisfied: pydantic<3.0.0,>=2.7.4 in /usr/local/lib/python3.11/dist-packages (from langchain<0.4.0,>=0.3.15->langchain-community) (2.10.5)\n",
            "Requirement already satisfied: jsonpatch<2.0,>=1.33 in /usr/local/lib/python3.11/dist-packages (from langchain-core<0.4.0,>=0.3.31->langchain-community) (1.33)\n",
            "Requirement already satisfied: packaging<25,>=23.2 in /usr/local/lib/python3.11/dist-packages (from langchain-core<0.4.0,>=0.3.31->langchain-community) (24.2)\n",
            "Requirement already satisfied: typing-extensions>=4.7 in /usr/local/lib/python3.11/dist-packages (from langchain-core<0.4.0,>=0.3.31->langchain-community) (4.12.2)\n",
            "Requirement already satisfied: httpx<1,>=0.23.0 in /usr/local/lib/python3.11/dist-packages (from langsmith<0.4,>=0.1.125->langchain-community) (0.28.1)\n",
            "Requirement already satisfied: orjson<4.0.0,>=3.9.14 in /usr/local/lib/python3.11/dist-packages (from langsmith<0.4,>=0.1.125->langchain-community) (3.10.14)\n",
            "Requirement already satisfied: requests-toolbelt<2.0.0,>=1.0.0 in /usr/local/lib/python3.11/dist-packages (from langsmith<0.4,>=0.1.125->langchain-community) (1.0.0)\n",
            "Collecting python-dotenv>=0.21.0 (from pydantic-settings<3.0.0,>=2.4.0->langchain-community)\n",
            "  Downloading python_dotenv-1.0.1-py3-none-any.whl.metadata (23 kB)\n",
            "Requirement already satisfied: charset-normalizer<4,>=2 in /usr/local/lib/python3.11/dist-packages (from requests<3,>=2->langchain-community) (3.4.1)\n",
            "Requirement already satisfied: idna<4,>=2.5 in /usr/local/lib/python3.11/dist-packages (from requests<3,>=2->langchain-community) (3.10)\n",
            "Requirement already satisfied: urllib3<3,>=1.21.1 in /usr/local/lib/python3.11/dist-packages (from requests<3,>=2->langchain-community) (2.3.0)\n",
            "Requirement already satisfied: certifi>=2017.4.17 in /usr/local/lib/python3.11/dist-packages (from requests<3,>=2->langchain-community) (2024.12.14)\n",
            "Requirement already satisfied: greenlet!=0.4.17 in /usr/local/lib/python3.11/dist-packages (from SQLAlchemy<3,>=1.4->langchain-community) (3.1.1)\n",
            "Requirement already satisfied: anyio in /usr/local/lib/python3.11/dist-packages (from httpx<1,>=0.23.0->langsmith<0.4,>=0.1.125->langchain-community) (3.7.1)\n",
            "Requirement already satisfied: httpcore==1.* in /usr/local/lib/python3.11/dist-packages (from httpx<1,>=0.23.0->langsmith<0.4,>=0.1.125->langchain-community) (1.0.7)\n",
            "Requirement already satisfied: h11<0.15,>=0.13 in /usr/local/lib/python3.11/dist-packages (from httpcore==1.*->httpx<1,>=0.23.0->langsmith<0.4,>=0.1.125->langchain-community) (0.14.0)\n",
            "Requirement already satisfied: jsonpointer>=1.9 in /usr/local/lib/python3.11/dist-packages (from jsonpatch<2.0,>=1.33->langchain-core<0.4.0,>=0.3.31->langchain-community) (3.0.0)\n",
            "Requirement already satisfied: annotated-types>=0.6.0 in /usr/local/lib/python3.11/dist-packages (from pydantic<3.0.0,>=2.7.4->langchain<0.4.0,>=0.3.15->langchain-community) (0.7.0)\n",
            "Requirement already satisfied: pydantic-core==2.27.2 in /usr/local/lib/python3.11/dist-packages (from pydantic<3.0.0,>=2.7.4->langchain<0.4.0,>=0.3.15->langchain-community) (2.27.2)\n",
            "Collecting mypy-extensions>=0.3.0 (from typing-inspect<1,>=0.4.0->dataclasses-json<0.7,>=0.5.7->langchain-community)\n",
            "  Downloading mypy_extensions-1.0.0-py3-none-any.whl.metadata (1.1 kB)\n",
            "Requirement already satisfied: sniffio>=1.1 in /usr/local/lib/python3.11/dist-packages (from anyio->httpx<1,>=0.23.0->langsmith<0.4,>=0.1.125->langchain-community) (1.3.1)\n",
            "Downloading langchain_community-0.3.15-py3-none-any.whl (2.5 MB)\n",
            "\u001b[2K   \u001b[90m━━━━━━━━━━━━━━━━━━━━━━━━━━━━━━━━━━━━━━━━\u001b[0m \u001b[32m2.5/2.5 MB\u001b[0m \u001b[31m20.1 MB/s\u001b[0m eta \u001b[36m0:00:00\u001b[0m\n",
            "\u001b[?25hDownloading dataclasses_json-0.6.7-py3-none-any.whl (28 kB)\n",
            "Downloading httpx_sse-0.4.0-py3-none-any.whl (7.8 kB)\n",
            "Downloading langchain-0.3.15-py3-none-any.whl (1.0 MB)\n",
            "\u001b[2K   \u001b[90m━━━━━━━━━━━━━━━━━━━━━━━━━━━━━━━━━━━━━━━━\u001b[0m \u001b[32m1.0/1.0 MB\u001b[0m \u001b[31m44.1 MB/s\u001b[0m eta \u001b[36m0:00:00\u001b[0m\n",
            "\u001b[?25hDownloading langchain_core-0.3.31-py3-none-any.whl (412 kB)\n",
            "\u001b[2K   \u001b[90m━━━━━━━━━━━━━━━━━━━━━━━━━━━━━━━━━━━━━━━━\u001b[0m \u001b[32m412.2/412.2 kB\u001b[0m \u001b[31m23.9 MB/s\u001b[0m eta \u001b[36m0:00:00\u001b[0m\n",
            "\u001b[?25hDownloading pydantic_settings-2.7.1-py3-none-any.whl (29 kB)\n",
            "Downloading marshmallow-3.25.1-py3-none-any.whl (49 kB)\n",
            "\u001b[2K   \u001b[90m━━━━━━━━━━━━━━━━━━━━━━━━━━━━━━━━━━━━━━━━\u001b[0m \u001b[32m49.6/49.6 kB\u001b[0m \u001b[31m3.7 MB/s\u001b[0m eta \u001b[36m0:00:00\u001b[0m\n",
            "\u001b[?25hDownloading python_dotenv-1.0.1-py3-none-any.whl (19 kB)\n",
            "Downloading typing_inspect-0.9.0-py3-none-any.whl (8.8 kB)\n",
            "Downloading mypy_extensions-1.0.0-py3-none-any.whl (4.7 kB)\n",
            "Installing collected packages: python-dotenv, mypy-extensions, marshmallow, httpx-sse, typing-inspect, pydantic-settings, dataclasses-json, langchain-core, langchain, langchain-community\n",
            "  Attempting uninstall: langchain-core\n",
            "    Found existing installation: langchain-core 0.3.29\n",
            "    Uninstalling langchain-core-0.3.29:\n",
            "      Successfully uninstalled langchain-core-0.3.29\n",
            "  Attempting uninstall: langchain\n",
            "    Found existing installation: langchain 0.3.14\n",
            "    Uninstalling langchain-0.3.14:\n",
            "      Successfully uninstalled langchain-0.3.14\n",
            "Successfully installed dataclasses-json-0.6.7 httpx-sse-0.4.0 langchain-0.3.15 langchain-community-0.3.15 langchain-core-0.3.31 marshmallow-3.25.1 mypy-extensions-1.0.0 pydantic-settings-2.7.1 python-dotenv-1.0.1 typing-inspect-0.9.0\n"
          ]
        }
      ]
    },
    {
      "cell_type": "code",
      "source": [
        "from PyPDF2 import PdfReader\n",
        "from langchain.embeddings.openai import OpenAIEmbeddings # measures the relatedness of text strings\n",
        "from langchain.text_splitter import CharacterTextSplitter # content inside pdf would be split based on spl characters/text size - done to have fixed size tokens\n",
        "from langchain.vectorstores import FAISS # vector database - to store"
      ],
      "metadata": {
        "id": "O1BvOnyzOZHg"
      },
      "execution_count": null,
      "outputs": []
    },
    {
      "cell_type": "code",
      "source": [
        "import os\n",
        "os.environ[\"OPENAI_API_KEY\"]  = \"ADD YOUR API KEY\""
      ],
      "metadata": {
        "id": "1l4WBWfVPbwr"
      },
      "execution_count": null,
      "outputs": []
    },
    {
      "cell_type": "code",
      "source": [
        " # PROVIDE THE PATH OF PDF FILE/FILES\n",
        " pdfreader = PdfReader('bh1.pdf')"
      ],
      "metadata": {
        "id": "UtJQH_t-P9zu"
      },
      "execution_count": 10,
      "outputs": []
    },
    {
      "cell_type": "code",
      "source": [
        "from typing_extensions import Concatenate\n",
        "# read text from pdf\n",
        "raw_text = ''\n",
        "for i, page in enumerate(pdfreader.pages):\n",
        "    content = page.extract_text()\n",
        "    if content:\n",
        "        raw_text += content"
      ],
      "metadata": {
        "id": "BrUR-bcBRcpC"
      },
      "execution_count": 11,
      "outputs": []
    },
    {
      "cell_type": "code",
      "source": [
        "raw_text"
      ],
      "metadata": {
        "colab": {
          "base_uri": "https://localhost:8080/",
          "height": 244
        },
        "id": "YAAbU79HTSRm",
        "outputId": "e108ee4c-ed34-4952-c179-3d1075c1a990"
      },
      "execution_count": 12,
      "outputs": [
        {
          "output_type": "execute_result",
          "data": {
            "text/plain": [
              "\"Key Features \\nof\\nBudget\\n2024-2025\\nFebruary, 2024ºÉiªÉàÉä´É VÉªÉiÉäViksit Bharat by 2047\\nDevelopment Mantra\\nComprehensive \\ndevelopment of allVision: Prosperous Bharat in harmony with nature, modern \\ninfrastructure and opportunities for all\\nSabka Saath, \\nSabka Vikas\\nSabka Saath, \\nSabka Vikas, \\nSabka Vishwas\\nTrinity of demography, \\ndemocracy and diversity, \\nbacked by ‘Sabka Prayas ’\\nDeveloped India \\n@ 2047\\n1People -Centric Inclusive Development\\nSubstantive development of all forms of \\ninfrastructure -Physical, Digital and Social\\nDigital Public Infrastructure (DPI) -Promoted \\nformalisation and financial inclusion\\nDeepening and widening of tax base via GST\\nStrengthened financial sector brought savings, credit \\nand Investment back on track\\nGIFT  IFSC - A robust  gateway  for global  capital  and \\nfinancial  services  for the economy\\nProactive  Inflation  management\\nAll parts  of country  becoming  active  participants  in \\neconomic  growth\\n-10-505101520\\nFY14\\nFY15\\nFY16\\nFY17\\nFY18\\nFY19\\nFY20\\nFY21\\nFY22\\nFY23\\nFY24\\nFY25\\nFY26\\nFY27\\nFY28\\nFY29Per centIndia Dollar GDP growth World Dollar GDP growthIndia and World Dollar GDP growth\\n2Focus Areas (1/2)\\n55.3\\n29.2\\n24.9\\n15\\n11.3\\n2005-06 2013-14* 2015-16 2019-21 2022-23*Percentage of Population who are \\nMultidimensionally poorDecline in \\nHeadcount Ratio \\n25 crore people moved out of Multi -\\ndimensional povertyGarib Kalyan, Desh ka Kalyan\\nDBT has led to savings of ₹2.7 lakh \\ncrore\\nCredit assistance to 78 lakh street \\nvendors under PM -SV ANidhi\\nEmpowering the Youth\\n40006050\\n2023-24 (BE) 2024-25 (BE)₹ CroreIncrease in PM -SHRI \\nBudget Allocation1.4 crore youth trained under Skill \\nIndia Mission\\n1623\\n2014 2023IIT\\n7231113\\n2014 2023Universities\\n722\\n2014 2022AIIMSFostering entrepreneurial aspirations \\nof Youth -43 crore loans sanctioned \\nunder PM Mudra Yojana\\n3* ProjectionsFocus Areas (2/2)\\nWelfare of Farmers -Annadata\\nDirect financial assistance to 11.8 \\ncrore farmers under PM -KISAN\\nCrop Insurance to 4 crore farmers \\nunder PM Fasal  Bima Yojana\\nIntegration  1,361 mandis  under  e-\\nNAM,  supporting  trading  volume  of \\n₹ 3 lakh crore\\nNari Shakti\\n30 crore Mudra Yojana loans \\ndisbursed to women entrepreneurs\\nIncreased female enrolment in higher \\neducation by 28 per cent in 10 years\\n43 per cent of female  enrolment  in \\nSTEM  courses\\n1 crore  women  assisted  by 83 lakh \\nSHGs  to become  Lakhpati  Didis23.337.0\\n2017-18 2022-23Per centRise in Female Labour \\nForce Participation Rate\\n3029 28382020-21\\n2021-22\\n2022-23\\n2023-24Lakh Metric TonneRice\\n390433\\n1882622020-21\\n2021-22\\n2022-23\\n2023-24WheatIncreasing Procurement of \\nWheat and Rice\\n4Strategy for Amrit Kaal (1/5)\\nSustainable Development\\nCommitment  to meet  ‘Net Zero’  by 2070\\n•Viability  gap funding  for wind  energy\\n•Setting  up of coal gasification  and liquefaction  capacity\\n•Phased  mandatory  blending  of CNG,  PNG  and \\ncompressed  biogas\\n•Financial  assistance  for procurement  of biomass  \\naggregation  machinery\\nRooftop  solarization -1 crore  households  will be enabled  to \\nobtain  up to 300 units  of free electricity  per month\\n•Adoption  of e-buses  for public  transport  network\\n•Strengthening  e-vehicle  ecosystem  by supporting  \\nmanufacturing  and charging\\nNew  scheme  of biomanufacturing  and bio-foundry  to be \\nlaunched  to support  environment  friendly  alternatives\\n30.432.343.9\\n2004 2014 Nov-23% of  Non -Fossil fuel installed \\nelectricity capacityPer cent increase in Non -Fossil Fuel \\ninstalled electricity capacity•>10 crore  LPG  connections  \\nreleased  under  PMUY\\n•36.9 crore  LED  bulbs , 72.2 \\nlakh LED  Tube  lights,  and \\n23.6 lakh Energy  efficient  \\nfans distributed  under  \\nUJALA  \\n•1.3 crore  LED  Street  Lights  \\ninstalled  under  SNLP  \\n5Strategy for Amrit Kaal (2/5)\\nInfrastructure and Investment\\n01234\\n036912\\nFY18 FY19 FY20 FY21 FY22 FY23 FY24\\n(BE)FY25\\n (BE)\\nCapex as % of GDPRs. Lakh CroreCapital Expenditure Capex as % of GDPImplementation  of 3 major  railway  corridor  programmes  \\nunder  PM Gati Shakti -to improve  logistics  efficiency  and \\nreduce  cost\\nPromotion  of foreign  investment  via bilateral  investment  \\ntreaties  to be negotiated\\n97991144634\\n581.3720\\n2222450394\\n162574149\\nFY15 FY22 FY15 FY22 FY15 FY22 FY15 FY22 FY15 FY22\\nNational highways\\n(Km)Cargo traffic at major\\nports (Mn tonnes)Electrified rail route\\n(km)Aircraft movement (Mn\\ntonnes)Number of AirportsImprovement in Physical InfrastructureExpansion  of existing  airports  and comprehensive  \\ndevelopment  of new airports  under  UDAN  scheme\\nPromotion  of urban  transformation  via Metro  rail and NaMo  \\nBharat\\n298596\\n2005-14 2014-23USD BillionDoubling of FDI Inflow Increase in Capital Expenditure\\n6\\nStrategy for Amrit Kaal (3/5)\\nInclusive Development (1/2)\\nAspirational  District  Programme  to assist  States  in faster  \\ndevelopment,  including  employment  generation\\nEncourage  Cervical  Cancer  Vaccination  for girls (9-14 years)\\nSaksham  Anganwadi  and Poshan  2.0 to be expedited  for \\nimproved  nutrition  delivery,  early  childhood  care and \\ndevelopment\\nU-WIN  platform  for immunisation  efforts  of Mission  \\nIndradhanush  to be rolled  out\\nHealth  cover  under  Ayushman  Bharat  scheme  to be extended  \\nto all ASHA,  Angawadi  workers  and helpersInclusive Development in Aspirational Districts (112)\\nHealth6889\\n2018 Oct-23Per cent% of Women registered for \\nAnti-Natal Care within First \\nTrimester\\n173713195\\n2018 Oct-23NumberNumber of enrolments under \\nPradhan Mantri Jeevan Jyoti \\nBima Yojana (PMJJBY) per lakh \\npopulation \\n7Strategy for Amrit Kaal (4/5)\\nInclusive Development (2/2)\\nPradhan  Mantri  Awas  Yojana  \\n(Grameen)  close  to achieving  target  \\nof 3 crore  houses,  additional  2 crore  \\ntargeted  for next 5 years  \\nHousing  for Middle  Class  scheme  to \\nbe launched  to promote  middle  class  \\nto buy/built  their own houses\\nStates  will be encouraged  to \\nundertake  development  of iconic  \\ntourist  centres  to attract  business  and \\npromote  opportunities  for local  \\nentrepreneurship\\nLong -term interest  free loans  to be \\nprovided  to States  to encourage  \\ndevelopment\\nHousing\\nTourism\\n7959080671\\n2023-24\\n(BE)2024-25\\n(BE)₹ CroreIncreased allocation for \\nPMAY\\nG20 meetings  in 60 places  \\npresented  diversity  of India  to \\nglobal  audience\\nProjects  for port connectivity,  \\ntourism  infrastructure,  and \\namenities  will be taken  up in \\nislands,  including  \\nLakshadweep\\n8Strategy for Amrit Kaal (5/5)\\nAgriculture and Food Processing\\nGovernment  will promote  private  and public  investment  in \\npost-harvest  activities\\nApplication  of Nano -DAP  to be expanded  in all agro-climatic  \\nzones\\nAtmanirbhar  Oilseeds  Abhiyaan -Strategy  to be formulated  to \\nachieve  atmanirbharta  for oilseeds\\nComprehensive  programme  for dairy  development  to be \\nformulated\\nImplementation  of Pradhan  Mantri  Matsaya  Sampada  Yojana  \\nto be stepped  up to enhance  aquaculture  productivity,  double  \\nexports  and generate  more  employment  opportunities\\n5 Integrated  Aquaparks  to be set up\\n20252352\\n2023-24\\n(BE)2024-25\\n(BE)Rs. CroreIncreased allocation for \\nBlue Revolution\\n639880\\n2023-24\\n(BE)2024-25\\n(BE)Rs. CroreIncreased allocation for PM -\\nFormalisation of Micro Food \\nProcessing Enterprises scheme\\n9Resilient Performance of the Indian Economy\\n0.00.51.01.52.02.5\\nFY14\\nFY15\\nFY16\\nFY17\\nFY18\\nFY19\\nFY20\\nFY21\\nFY22\\nFY23\\nH1: FY24Per cent of GDPDeclining CAD as % of GDP\\n6.15.8\\n4.8\\n4.2 4.1\\n3.2\\n2017-18 2018-19 2019-20 2020-21 2021-22 2022-23Per centDeclining Unemployment Rate \\n3.84.37.59.311.2\\n9.1\\n8.2\\n7.3\\n5.8\\n3.2FY14\\nFY15\\nFY16\\nFY17\\nFY18\\nFY19\\nFY20\\nFY21\\nFY22\\nSep-23Gross NPAs a % of Gross AdvancesDeclining GNPAs as % of \\nGross Advances \\n0400080001200016000\\nFY18 FY19 FY20 FY21 FY22 FY23 FY24CroreRising volume of Digital \\nTransactions\\n0.91.01.0\\n0.91.21.51.7\\n0.60.91.21.51.8\\nFY18\\nFY19\\nFY20\\nFY21\\nFY22\\nFY23\\nFY24₹ Lakh CroreRise in average monthly gross \\nGST collections\\n9.4\\n5.8\\n4.94.5\\n3.63.44.86.2\\n5.56.7\\n5.5FY14\\nFY15\\nFY16\\nFY17\\nFY18\\nFY19\\nFY20\\nFY21\\nFY22\\nFY23\\nFY24*Per centFall in Headline Inflation\\n10Achievements of Taxation Reforms\\nDirect Tax Collections more than trebled in last 10 \\nyears\\nNumber of return filers swelled to 2.4 times\\nFaster  refunds : Reduction  in average  processing  \\ntime of returns  from  93 days (2013 -14) to 10 days \\n(2023 -24)\\nBenefit  to consumers : \\nReduction  in logistics  \\ncost and prices  of most  \\ngoods  and servicesAverage  monthly  Gross  GST \\ncollections  doubled  to ₹1.66 lakh \\ncrore  in FY24\\nIncrease  in tax buoyancy  of State  \\nrevenue  from  0.72 (2012 -16) to 1.22 \\nin the post-GST period  (2017 -23)\\nDecline  in import  release  time  since  2019  by: -\\n•47 per cent at Inland  Container  Depots\\n•28 per cent at Air Cargo  complexes\\n•27 per cent at Sea Ports\\nPositive sentiment about GST\\n•94% industry leasers view transition to GST as largely positive\\n•80% of respondents feel GST has led to supply -chain optimisation\\n(As per a survey conducted by a leading consulting firm) \\n11Tax Proposals\\nContinuity  in taxation : Certain  tax benefits  to \\nStart -ups and investments  made  by sovereign  \\nwealth  funds/pension  funds,  tax exemption  of some  \\nIFSC  units  earlier  expiring  on 31.03.2024  extended  \\nup to 31.03.2025\\nWithdrawal  of outstanding  direct  tax demand : -\\n•Up to ₹25,000 pertaining  up to FY10\\n•Up to ₹10,000 for FY11-FY15\\nExpected  to benefit  approx . 1 crore  taxpayers\\n12\\nRetention  of same  tax rates : -\\n• For direct  and indirect  taxes,  including  import  \\nduties\\n•For Corporate  Taxes -22% for existing  domestic  \\ncompanies,  15% for certain  new manufacturing  \\ncompanies\\n•No tax liability  for taxpayers  with income  up to \\n₹7 lakh under  the new tax regime\\nRupee Comes From\\nNon-Tax Receipts (7%)\\nNon-Debt Capital Receipts (1%)\\nCustoms (4%)\\nGST and other taxes (18%)Corporation tax \\n(17%)Union Excise \\nDuties (5%)Income Tax \\n(19%)\\nBorrowing and Other \\nLiabilities (28%)\\nInterest Payments (20%)\\nCentrally \\nSponsored \\nSchemes (8%)\\nSubsidies (6%)\\nDefence (8%)Other Expenditure\\n(9%)\\nStates' share of \\nTaxes and Duties \\n(20%)\\nFinance Commission \\nand other transfers \\n(8%)\\nCentral Sector Schemes \\n(16%)Pensions (4%)\\nRupee Goes To\\n13Allocation for Specific Ministries\\nMinistry of Defence\\nMinistry of Agriculture \\nand Farmer's Welfare\\nMinistry of Consumer Affairs, \\nFood & Public Distribution\\nMinistry of Road Transport and \\nHighways\\nMinistry of Home Affairs\\nMinistry of Railways\\nMinistry of Chemicals and \\nFertilizers\\nMinistry of \\nCommunications\\nMinistry of Rural \\nDevelopmentin ₹ Lakh Crore\\n6.2\\n2.78\\n2.55\\n2.13\\n2.03\\n1.77\\n1.68\\n1.37\\n1.27\\n14Allocation to Major Schemes (in ₹ crore)\\nAyushman Bharat -PMJAY\\n2023 -24(BE) 2024 -25(BE)75007200\\n2023 -24(BE)Modified Programme for \\nDevelopment of Semi -\\nconductors and display \\nmanufacturing ecosystem\\n 3,000\\n6,903\\n2024 -25(BE)\\nSolar Power (Grid)\\n2023 -24(BE) 4,970\\n8,500\\n2024 -25(BE)\\n297\\n600\\n2023 -24(BE) 2024 -25(BE)National Green Hydrogen \\nMission2023 -24(BE)Production Linked Incentive \\nScheme4,645\\n6,200\\n2024 -25(BE)Mahatma Gandhi National Rural \\nEmployment Guarantee Scheme\\n2023 -24(BE) 2024 -25(BE)\\n86,00060,000\\n15\\nReceipts and Expenditure\\n23.826.327.030.0\\n05101520253035\\n2022-23\\n(Actuals)2023-24\\n(BE)2023-24\\n(RE)2024-25\\n(BE)₹Lakh CroreRevenue Receipts \\n18.118.7\\n17.9\\n17.6\\n16171819\\n2022-23\\n(Actuals)2023-24\\n(BE)2023-24\\n(RE)2024-25\\n(BE)₹Lakh CroreCapital Receipts \\n34.535.035.436.5\\n3334353637\\n2022-23\\n(Actuals)2023-24\\n(BE)2023-24\\n(RE)2024-25\\n(BE)₹Lakh CroreRevenue Expenditure \\n10.513.7\\n12.715.0\\n0481216\\n2022-23\\n(Actuals)2023-24\\n(BE)2023-24\\n(RE)2024-25\\n(BE)₹Lakh CroreEffective Capital Expenditure \\n16Key Features \\nof\\nBudget\\n2024-2025\\nFebruary, 2024ºÉiªÉàÉä´É VÉªÉiÉä\""
            ],
            "application/vnd.google.colaboratory.intrinsic+json": {
              "type": "string"
            }
          },
          "metadata": {},
          "execution_count": 12
        }
      ]
    },
    {
      "cell_type": "code",
      "source": [
        "# We need to split the text using Character Text Split such that it sshould not increse token size\n",
        "text_splitter = CharacterTextSplitter(\n",
        "    separator = \"\\n\",\n",
        "    chunk_size = 800,\n",
        "    chunk_overlap  = 200,\n",
        "    length_function = len,\n",
        ")\n",
        "texts = text_splitter.split_text(raw_text)"
      ],
      "metadata": {
        "id": "8cy0zWcMTYi6"
      },
      "execution_count": 13,
      "outputs": []
    },
    {
      "cell_type": "code",
      "source": [
        "len(texts)"
      ],
      "metadata": {
        "colab": {
          "base_uri": "https://localhost:8080/"
        },
        "id": "rGq0s8KxTf_5",
        "outputId": "d8b4b0ff-705a-464d-aeaa-7b57cab7fe16"
      },
      "execution_count": 14,
      "outputs": [
        {
          "output_type": "execute_result",
          "data": {
            "text/plain": [
              "20"
            ]
          },
          "metadata": {},
          "execution_count": 14
        }
      ]
    },
    {
      "cell_type": "code",
      "source": [
        "# Download embeddings from OpenAI\n",
        "embeddings = OpenAIEmbeddings()"
      ],
      "metadata": {
        "colab": {
          "base_uri": "https://localhost:8080/"
        },
        "id": "LxAn5-PkTp8U",
        "outputId": "dd89c0d4-45cc-41b9-826d-9f124432b04f"
      },
      "execution_count": 15,
      "outputs": [
        {
          "output_type": "stream",
          "name": "stderr",
          "text": [
            "<ipython-input-15-f838166cf7bd>:2: LangChainDeprecationWarning: The class `OpenAIEmbeddings` was deprecated in LangChain 0.0.9 and will be removed in 1.0. An updated version of the class exists in the :class:`~langchain-openai package and should be used instead. To use it run `pip install -U :class:`~langchain-openai` and import as `from :class:`~langchain_openai import OpenAIEmbeddings``.\n",
            "  embeddings = OpenAIEmbeddings()\n"
          ]
        }
      ]
    },
    {
      "cell_type": "code",
      "source": [
        "document_search = FAISS.from_texts(texts, embeddings)"
      ],
      "metadata": {
        "id": "YGeS00qITvUv"
      },
      "execution_count": 16,
      "outputs": []
    },
    {
      "cell_type": "code",
      "source": [
        "document_search"
      ],
      "metadata": {
        "colab": {
          "base_uri": "https://localhost:8080/"
        },
        "id": "Q0Bg07qETzk2",
        "outputId": "37f1f101-9319-424c-afaa-868af09329ed"
      },
      "execution_count": 17,
      "outputs": [
        {
          "output_type": "execute_result",
          "data": {
            "text/plain": [
              "<langchain_community.vectorstores.faiss.FAISS at 0x7ecf6791f050>"
            ]
          },
          "metadata": {},
          "execution_count": 17
        }
      ]
    },
    {
      "cell_type": "code",
      "source": [
        "from langchain.chains.question_answering import load_qa_chain\n",
        "from langchain.llms import OpenAI"
      ],
      "metadata": {
        "id": "CcRUUWi-T1n1"
      },
      "execution_count": 18,
      "outputs": []
    },
    {
      "cell_type": "code",
      "source": [
        "chain = load_qa_chain(OpenAI(), chain_type=\"stuff\")"
      ],
      "metadata": {
        "colab": {
          "base_uri": "https://localhost:8080/"
        },
        "id": "J4t1klbzUA1S",
        "outputId": "a62fbd91-36b0-4a4a-9ccc-a0f824e1d0e5"
      },
      "execution_count": 19,
      "outputs": [
        {
          "output_type": "stream",
          "name": "stderr",
          "text": [
            "<ipython-input-19-25e042d5cc81>:1: LangChainDeprecationWarning: The class `OpenAI` was deprecated in LangChain 0.0.10 and will be removed in 1.0. An updated version of the class exists in the :class:`~langchain-openai package and should be used instead. To use it run `pip install -U :class:`~langchain-openai` and import as `from :class:`~langchain_openai import OpenAI``.\n",
            "  chain = load_qa_chain(OpenAI(), chain_type=\"stuff\")\n",
            "<ipython-input-19-25e042d5cc81>:1: LangChainDeprecationWarning: This class is deprecated. See the following migration guides for replacements based on `chain_type`:\n",
            "stuff: https://python.langchain.com/docs/versions/migrating_chains/stuff_docs_chain\n",
            "map_reduce: https://python.langchain.com/docs/versions/migrating_chains/map_reduce_chain\n",
            "refine: https://python.langchain.com/docs/versions/migrating_chains/refine_chain\n",
            "map_rerank: https://python.langchain.com/docs/versions/migrating_chains/map_rerank_docs_chain\n",
            "\n",
            "See also guides on retrieval and question-answering here: https://python.langchain.com/docs/how_to/#qa-with-rag\n",
            "  chain = load_qa_chain(OpenAI(), chain_type=\"stuff\")\n"
          ]
        }
      ]
    },
    {
      "cell_type": "code",
      "source": [
        "query = \"Vision for Amrit Kaal\"\n",
        "docs = document_search.similarity_search(query)\n",
        "chain.run(input_documents=docs, question=query)"
      ],
      "metadata": {
        "colab": {
          "base_uri": "https://localhost:8080/",
          "height": 209
        },
        "id": "Wy1bOZTYUE7A",
        "outputId": "f09c9b10-9aa6-4bf3-c44f-cb7095ac8acb"
      },
      "execution_count": 21,
      "outputs": [
        {
          "output_type": "execute_result",
          "data": {
            "text/plain": [
              "'\\nThe vision for Amrit Kaal is to achieve inclusive development through strategies such as promoting private and public investment in post-harvest activities, expanding the application of Nano-DAP in all agro-climatic zones, and formulating the Atmanirbhar Oilseeds Abhiyaan to achieve self-sufficiency in oilseeds. Additionally, the government aims to improve physical infrastructure through initiatives such as doubling FDI inflow and increasing capital expenditure, as well as promoting urban transformation via Metro rail and the NaMo Bharat program. Other key features include the promotion of people-centric inclusive development, strengthening of the financial sector, and the development of all forms of infrastructure (physical, digital, and social) in order to achieve a prosperous Bharat in harmony with nature.'"
            ],
            "application/vnd.google.colaboratory.intrinsic+json": {
              "type": "string"
            }
          },
          "metadata": {},
          "execution_count": 21
        }
      ]
    },
    {
      "cell_type": "code",
      "source": [
        "query = \"How much the agriculture target will be increased to and what the focus will be\"\n",
        "docs = document_search.similarity_search(query)\n",
        "chain.run(input_documents=docs, question=query)"
      ],
      "metadata": {
        "colab": {
          "base_uri": "https://localhost:8080/",
          "height": 88
        },
        "id": "My_TVCsbUXpz",
        "outputId": "65f8f18f-6df8-427f-df9c-dcdd4bc7565a"
      },
      "execution_count": 22,
      "outputs": [
        {
          "output_type": "execute_result",
          "data": {
            "text/plain": [
              "' The agriculture target will be increased to 2023-24 and the focus will be on promoting private and public investment in post-harvest activities, expanding the application of Nano-DAP in all agro-climatic zones, and formulating the Atmanirbhar Oilseeds Abhiyaan strategy to achieve self-sufficiency in oilseeds.'"
            ],
            "application/vnd.google.colaboratory.intrinsic+json": {
              "type": "string"
            }
          },
          "metadata": {},
          "execution_count": 22
        }
      ]
    },
    {
      "cell_type": "code",
      "source": [],
      "metadata": {
        "id": "bymGFsWfUrK9"
      },
      "execution_count": null,
      "outputs": []
    }
  ]
}