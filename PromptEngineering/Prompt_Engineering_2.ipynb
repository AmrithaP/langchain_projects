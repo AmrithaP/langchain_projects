{
  "nbformat": 4,
  "nbformat_minor": 0,
  "metadata": {
    "colab": {
      "provenance": []
    },
    "kernelspec": {
      "name": "python3",
      "display_name": "Python 3"
    },
    "language_info": {
      "name": "python"
    }
  },
  "cells": [
    {
      "cell_type": "code",
      "execution_count": 25,
      "metadata": {
        "id": "oR_YXLcYjesc"
      },
      "outputs": [],
      "source": [
        "import os\n",
        "os.environ[\"OPENAI_API_KEY\"]=\"###Add your key###\""
      ]
    },
    {
      "cell_type": "code",
      "source": [
        "from langchain import PromptTemplate\n",
        "\n",
        "demo_template = \"\"\"I want you to act as an acting Financial Advisor for people.\n",
        "In an easy way, explain th basics of {financial_concept}.\"\"\"\n",
        "\n",
        "prompt = PromptTemplate(input_variables=[\"financial_concept\"], template = demo_template)\n",
        "\n",
        "prompt.format(financial_concept = 'income tax')"
      ],
      "metadata": {
        "colab": {
          "base_uri": "https://localhost:8080/",
          "height": 36
        },
        "id": "3ERF7_3cj2UC",
        "outputId": "6fb66b5b-4e48-48aa-a5c8-cea3fb5e3eeb"
      },
      "execution_count": 20,
      "outputs": [
        {
          "output_type": "execute_result",
          "data": {
            "text/plain": [
              "'I want you to act as an acting Financial Advisor for people.\\nIn an easy way, explain th basics of income tax.'"
            ],
            "application/vnd.google.colaboratory.intrinsic+json": {
              "type": "string"
            }
          },
          "metadata": {},
          "execution_count": 20
        }
      ]
    },
    {
      "cell_type": "code",
      "source": [
        "#pip install --upgrade langchain\n",
        "#!pip uninstall langchain -y\n",
        "#!pip install langchain\n",
        "#!pip install langchain openai\n",
        "\n",
        "#!pip install langchain-community\n"
      ],
      "metadata": {
        "id": "SLxo34zJlaKJ"
      },
      "execution_count": 22,
      "outputs": []
    },
    {
      "cell_type": "code",
      "source": [
        "### Pass that prompt to LLM model\n",
        "from langchain.llms import OpenAI\n",
        "from langchain.chains import LLMChain\n",
        "\n",
        "llm = OpenAI(temperature = 0.7)\n",
        "chain_1 = LLMChain(llm = llm, prompt = prompt)\n",
        "\n",
        "#print(chain_1.run('income tax'))\n",
        "chain_1.run('GDP')"
      ],
      "metadata": {
        "colab": {
          "base_uri": "https://localhost:8080/",
          "height": 105
        },
        "id": "sjhMSiDSk2N9",
        "outputId": "447814ee-4d9d-4ff9-d001-b0c378d64964"
      },
      "execution_count": 27,
      "outputs": [
        {
          "output_type": "execute_result",
          "data": {
            "text/plain": [
              "\"\\n\\nGDP, or Gross Domestic Product, is a measure of the total value of all goods and services produced within a country's borders in a specific time period, usually a year. It is often used as an indicator of a country's economic health and growth.\\n\\nThere are two main ways to calculate GDP: the expenditure approach and the income approach. The expenditure approach adds up all the spending on goods and services by individuals, businesses, and the government. The income approach adds up all the income earned by individuals and businesses through their production of goods and services.\\n\\nGDP is divided into four components: consumption, investment, government spending, and net exports. Consumption refers to the spending by individuals on goods and services for personal use. Investment refers to the spending by businesses on capital goods, such as equipment and buildings, to produce goods and services. Government spending includes all the money the government spends on goods and services, such as infrastructure and public services. Net exports refer to the difference between a country's exports and imports.\\n\\nGDP is an important measure because it can help us understand the overall health of an economy. A higher GDP usually means a country is producing more goods and services, which can lead to job growth and higher standards of living. However, GDP does not take into\""
            ],
            "application/vnd.google.colaboratory.intrinsic+json": {
              "type": "string"
            }
          },
          "metadata": {},
          "execution_count": 27
        }
      ]
    },
    {
      "cell_type": "code",
      "source": [
        "# Language Translation\n",
        "from langchain import PromptTemplate\n",
        "\n",
        "template = \"\"\" In an easy way translate the following sentence '{sentence}' into {target_language}.\"\"\"\n",
        "\n",
        "language_prompt = PromptTemplate(\n",
        "    input_variables = ['sentence', 'target_language'],\n",
        "    template = template\n",
        "    )\n",
        "\n",
        "language_prompt.format(sentence=\"how are you?\", target_language=\"Hindi\")"
      ],
      "metadata": {
        "colab": {
          "base_uri": "https://localhost:8080/",
          "height": 36
        },
        "id": "i3kOFhtflYWi",
        "outputId": "a34372bd-22d5-43d0-9872-6c36cc9b9b3f"
      },
      "execution_count": 34,
      "outputs": [
        {
          "output_type": "execute_result",
          "data": {
            "text/plain": [
              "\" In an easy way translate the following sentence 'how are you?' into Hindi.\""
            ],
            "application/vnd.google.colaboratory.intrinsic+json": {
              "type": "string"
            }
          },
          "metadata": {},
          "execution_count": 34
        }
      ]
    },
    {
      "cell_type": "code",
      "source": [
        "chain_2 = LLMChain(llm = llm, prompt = language_prompt)\n",
        "chain_2({'sentence':\"Hello, how are you?\", 'target_language':\"Kannada\"}) # more than 1 inputs then inside a dictionary"
      ],
      "metadata": {
        "colab": {
          "base_uri": "https://localhost:8080/"
        },
        "id": "JRDQHdm9m4uW",
        "outputId": "0e5fc067-e817-42b8-8046-02b0276ce0ea"
      },
      "execution_count": 33,
      "outputs": [
        {
          "output_type": "execute_result",
          "data": {
            "text/plain": [
              "{'sentence': 'Hello, how are you?',\n",
              " 'target_language': 'Kannada',\n",
              " 'text': '\\n\\nಹಲೋ, ನೀವು ಹೇಗಿದ್ದೀರಿ? (halō, nīvu hēgididdīri?)'}"
            ]
          },
          "metadata": {},
          "execution_count": 33
        }
      ]
    },
    {
      "cell_type": "code",
      "source": [
        "from langchain import PromptTemplate, FewShotPromptTemplate\n",
        "\n",
        "# First create the list of few shot examples\n",
        "examples= [\n",
        "    {\"word\":\"happy\", \"antonym\":\"sad\"},\n",
        "    {\"word\":\"tall\", \"antonym\":\"short\"}\n",
        "]\n",
        "\n",
        "# Next, we specify the template to format the examples we have provided.\n",
        "# we use the Prompt template class for this\n",
        "example_formatter_template = \"\"\" Word : {word}\n",
        "Anotnym : {antonym}\n",
        "\"\"\"\n",
        "\n",
        "example_prompt = PromptTemplate(\n",
        "    input_variables = [\"word\", \"antonym\"],\n",
        "    template = example_formatter_template\n",
        ")"
      ],
      "metadata": {
        "id": "ErcxXXYVoZwT"
      },
      "execution_count": 35,
      "outputs": []
    },
    {
      "cell_type": "code",
      "source": [
        "# FewShotPromptTemplate\n",
        "few_shot_template = FewShotPromptTemplate(\n",
        "    examples = examples,\n",
        "    example_prompt = example_prompt,\n",
        "    prefix = \"Give the Antonym of every input \\n\",\n",
        "    suffix = \" Word: {input} \\n Antonym: \",\n",
        "    input_variables = [\"input\"],\n",
        "    example_separator = \"\\n\"\n",
        ")"
      ],
      "metadata": {
        "id": "DJihQMQ-pxDQ"
      },
      "execution_count": 36,
      "outputs": []
    },
    {
      "cell_type": "code",
      "source": [
        "print(few_shot_template.format(input = \"big\"))"
      ],
      "metadata": {
        "colab": {
          "base_uri": "https://localhost:8080/"
        },
        "id": "BcdE6DRSqh3-",
        "outputId": "83728549-3505-43e2-baea-57d2ab04cb77"
      },
      "execution_count": 37,
      "outputs": [
        {
          "output_type": "stream",
          "name": "stdout",
          "text": [
            "Give the Antonym of every input \n",
            "\n",
            "Word: happy \n",
            " Antonym: sad\n",
            "Word: tall \n",
            " Antonym: short\n",
            " Word: big \n",
            " Antonym: \n"
          ]
        }
      ]
    },
    {
      "cell_type": "code",
      "source": [
        "chain_3 = LLMChain(llm = llm, prompt = few_shot_template)\n",
        "#chain_3.run(\"big\")\n",
        "chain_3({'input':\"big\"})"
      ],
      "metadata": {
        "colab": {
          "base_uri": "https://localhost:8080/"
        },
        "id": "6AJKcHYrqk5x",
        "outputId": "a2851023-cf70-437e-a74d-7f75553a2a3f"
      },
      "execution_count": 39,
      "outputs": [
        {
          "output_type": "execute_result",
          "data": {
            "text/plain": [
              "{'input': 'big', 'text': ' small'}"
            ]
          },
          "metadata": {},
          "execution_count": 39
        }
      ]
    },
    {
      "cell_type": "code",
      "source": [
        ""
      ],
      "metadata": {
        "id": "FxMTtXY5q7uZ"
      },
      "execution_count": null,
      "outputs": []
    }
  ]
}